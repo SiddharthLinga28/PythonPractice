{
 "cells": [
  {
   "cell_type": "code",
   "execution_count": 1,
   "id": "879931e0",
   "metadata": {},
   "outputs": [
    {
     "name": "stdout",
     "output_type": "stream",
     "text": [
      "0.955\n",
      "              precision    recall  f1-score   support\n",
      "\n",
      "           0      0.923     1.000     0.960        48\n",
      "           1      1.000     0.902     0.949        41\n",
      "\n",
      "    accuracy                          0.955        89\n",
      "   macro avg      0.962     0.951     0.954        89\n",
      "weighted avg      0.959     0.955     0.955        89\n",
      "\n"
     ]
    }
   ],
   "source": [
    "import numpy as np, pandas as pd\n",
    "from sklearn.model_selection import train_test_split\n",
    "from sklearn.preprocessing import StandardScaler\n",
    "from sklearn.linear_model import LogisticRegression\n",
    "from sklearn.pipeline import Pipeline\n",
    "from sklearn.metrics import accuracy_score, classification_report\n",
    "\n",
    "path = \"dementia_dataset (2).xls\"\n",
    "try:\n",
    "    df = pd.read_excel(path, engine=\"xlrd\")\n",
    "except Exception:\n",
    "    try:\n",
    "        df = pd.read_excel(path, engine=\"openpyxl\")\n",
    "    except Exception:\n",
    "        df = pd.read_csv(path.replace(\".xls\",\".csv\"))\n",
    "\n",
    "label_map = {\"Nondemented\":0,\"NonDemented\":0,\"NONDEMENTED\":0,\"Demented\":1,\"Converted\":1}\n",
    "y = df[\"Group\"].map(label_map)\n",
    "num = df.select_dtypes(include=[\"number\"])\n",
    "X = num.to_numpy(dtype=float)\n",
    "mask = ~y.isna() & ~np.isnan(X).any(axis=1)\n",
    "X = X[mask]\n",
    "y = y[mask].to_numpy(dtype=int)\n",
    "\n",
    "X_train,X_test,y_train,y_test = train_test_split(X,y,test_size=0.25,random_state=42,stratify=y)\n",
    "\n",
    "pipe = Pipeline([(\"scaler\",StandardScaler()),(\"clf\",LogisticRegression(max_iter=2000,class_weight=\"balanced\"))])\n",
    "pipe.fit(X_train,y_train)\n",
    "pred = pipe.predict(X_test)\n",
    "print(round(accuracy_score(y_test,pred),3))\n",
    "print(classification_report(y_test,pred,digits=3))\n"
   ]
  }
 ],
 "metadata": {
  "kernelspec": {
   "display_name": "Python 3",
   "language": "python",
   "name": "python3"
  },
  "language_info": {
   "codemirror_mode": {
    "name": "ipython",
    "version": 3
   },
   "file_extension": ".py",
   "mimetype": "text/x-python",
   "name": "python",
   "nbconvert_exporter": "python",
   "pygments_lexer": "ipython3",
   "version": "3.10.0"
  }
 },
 "nbformat": 4,
 "nbformat_minor": 5
}
