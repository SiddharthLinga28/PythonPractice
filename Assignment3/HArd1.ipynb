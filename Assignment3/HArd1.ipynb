{
 "cells": [
  {
   "cell_type": "code",
   "execution_count": 1,
   "id": "7a96275a",
   "metadata": {},
   "outputs": [
    {
     "name": "stdout",
     "output_type": "stream",
     "text": [
      "0.0009\n",
      "(2000, 100) 0.0054\n"
     ]
    }
   ],
   "source": [
    "import numpy as np, time\n",
    "\n",
    "rng = np.random.default_rng(0)\n",
    "n = 2_000_000\n",
    "a = rng.random(n)\n",
    "b = rng.random(n)\n",
    "\n",
    "t0 = time.perf_counter()\n",
    "s = float(np.dot(a,b))\n",
    "t1 = time.perf_counter()\n",
    "\n",
    "x = rng.random((2000,300))\n",
    "w = rng.random((300,100))\n",
    "t2 = time.perf_counter()\n",
    "y = x @ w\n",
    "t3 = time.perf_counter()\n",
    "\n",
    "print(round(t1-t0,4))\n",
    "print(y.shape, round(t3-t2,4))\n"
   ]
  }
 ],
 "metadata": {
  "kernelspec": {
   "display_name": "Python 3",
   "language": "python",
   "name": "python3"
  },
  "language_info": {
   "codemirror_mode": {
    "name": "ipython",
    "version": 3
   },
   "file_extension": ".py",
   "mimetype": "text/x-python",
   "name": "python",
   "nbconvert_exporter": "python",
   "pygments_lexer": "ipython3",
   "version": "3.10.0"
  }
 },
 "nbformat": 4,
 "nbformat_minor": 5
}
