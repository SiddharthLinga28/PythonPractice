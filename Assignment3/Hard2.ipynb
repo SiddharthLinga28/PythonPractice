{
 "cells": [
  {
   "cell_type": "code",
   "execution_count": 1,
   "id": "19120928",
   "metadata": {},
   "outputs": [
    {
     "name": "stdout",
     "output_type": "stream",
     "text": [
      "(373, 3)\n",
      "[116, 159, 98]\n"
     ]
    }
   ],
   "source": [
    "import numpy as np, pandas as pd\n",
    "\n",
    "def impute_median(A):\n",
    "    med = np.nanmedian(A, axis=0)\n",
    "    idx = np.where(np.isnan(A))\n",
    "    A[idx] = np.take(med, idx[1])\n",
    "    return A\n",
    "\n",
    "def standardize(A):\n",
    "    mu = A.mean(axis=0)\n",
    "    sd = A.std(axis=0, ddof=1)\n",
    "    sd[sd==0] = 1.0\n",
    "    return (A - mu) / sd\n",
    "\n",
    "def pca_reduce(A, k):\n",
    "    U,S,VT = np.linalg.svd(A, full_matrices=False)\n",
    "    Z = U[:,:k] * S[:k]\n",
    "    return Z, VT[:k]\n",
    "\n",
    "def kmeans(A, k, iters=50, seed=0):\n",
    "    rng = np.random.default_rng(seed)\n",
    "    idx = rng.choice(A.shape[0], size=k, replace=False)\n",
    "    C = A[idx]\n",
    "    for _ in range(iters):\n",
    "        d2 = ((A[:,None,:] - C[None,:,:])**2).sum(axis=2)\n",
    "        labels = d2.argmin(axis=1)\n",
    "        C_new = np.vstack([A[labels==i].mean(axis=0) if np.any(labels==i) else C[i] for i in range(k)])\n",
    "        if np.allclose(C, C_new): break\n",
    "        C = C_new\n",
    "    return labels, C\n",
    "\n",
    "path = \"dementia_dataset (2).xls\"\n",
    "try:\n",
    "    df = pd.read_excel(path, engine=\"xlrd\")\n",
    "except Exception:\n",
    "    try:\n",
    "        df = pd.read_excel(path, engine=\"openpyxl\")\n",
    "    except Exception:\n",
    "        df = pd.read_csv(path.replace(\".xls\",\".csv\"))\n",
    "\n",
    "num = df.select_dtypes(include=[\"number\"])\n",
    "A = num.to_numpy(dtype=float)\n",
    "\n",
    "A = impute_median(A)\n",
    "A = standardize(A)\n",
    "Z, comps = pca_reduce(A, k=3)\n",
    "labels, centers = kmeans(Z, k=3, iters=100, seed=42)\n",
    "\n",
    "counts = np.bincount(labels, minlength=3)\n",
    "print(Z.shape)\n",
    "print(counts.tolist())\n"
   ]
  }
 ],
 "metadata": {
  "kernelspec": {
   "display_name": "Python 3",
   "language": "python",
   "name": "python3"
  },
  "language_info": {
   "codemirror_mode": {
    "name": "ipython",
    "version": 3
   },
   "file_extension": ".py",
   "mimetype": "text/x-python",
   "name": "python",
   "nbconvert_exporter": "python",
   "pygments_lexer": "ipython3",
   "version": "3.10.0"
  }
 },
 "nbformat": 4,
 "nbformat_minor": 5
}
