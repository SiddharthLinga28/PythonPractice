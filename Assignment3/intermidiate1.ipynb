{
 "cells": [
  {
   "cell_type": "code",
   "execution_count": null,
   "id": "dca321b9",
   "metadata": {},
   "outputs": [],
   "source": []
  },
  {
   "cell_type": "code",
   "execution_count": 2,
   "id": "4f059b32",
   "metadata": {},
   "outputs": [
    {
     "name": "stdout",
     "output_type": "stream",
     "text": [
      "(373, 10)\n",
      "{'Visit': np.float64(1.882), 'MR Delay': np.float64(595.105), 'Age': np.float64(77.013), 'EDUC': np.float64(14.598), 'SES': np.float64(2.46), 'MMSE': np.float64(27.342), 'CDR': np.float64(0.291), 'eTIV': np.float64(1488.129), 'nWBV': np.float64(0.73), 'ASF': np.float64(1.195)}\n",
      "{'Visit': np.float64(0.923), 'MR Delay': np.float64(635.485), 'Age': np.float64(7.641), 'EDUC': np.float64(2.876), 'SES': np.float64(1.134), 'MMSE': np.float64(3.683), 'CDR': np.float64(0.375), 'eTIV': np.float64(176.139), 'nWBV': np.float64(0.037), 'ASF': np.float64(0.138)}\n",
      "{'Visit': np.float64(2.0), 'MR Delay': np.float64(552.0), 'Age': np.float64(77.0), 'EDUC': np.float64(15.0), 'SES': np.float64(2.0), 'MMSE': np.float64(29.0), 'CDR': np.float64(0.0), 'eTIV': np.float64(1470.0), 'nWBV': np.float64(0.729), 'ASF': np.float64(1.194)}\n",
      "{'Visit': np.float64(1.0), 'MR Delay': np.float64(0.0), 'Age': np.float64(60.0), 'EDUC': np.float64(6.0), 'SES': np.float64(1.0), 'MMSE': np.float64(4.0), 'CDR': np.float64(0.0), 'eTIV': np.float64(1106.0), 'nWBV': np.float64(0.644), 'ASF': np.float64(0.876)}\n",
      "{'Visit': np.float64(5.0), 'MR Delay': np.float64(2639.0), 'Age': np.float64(98.0), 'EDUC': np.float64(23.0), 'SES': np.float64(5.0), 'MMSE': np.float64(30.0), 'CDR': np.float64(2.0), 'eTIV': np.float64(2004.0), 'nWBV': np.float64(0.837), 'ASF': np.float64(1.587)}\n",
      "[[ 1.     0.923  0.186  0.014 -0.052 -0.029 -0.016  0.129 -0.123 -0.134]\n",
      " [ 0.923  1.     0.204  0.044 -0.031  0.074 -0.066  0.119 -0.102 -0.125]\n",
      " [ 0.186  0.204  1.    -0.025 -0.047  0.056 -0.023  0.04  -0.526 -0.032]\n",
      " [ 0.014  0.044 -0.025  1.    -0.723  0.184 -0.129  0.268 -0.02  -0.252]\n",
      " [-0.052 -0.031 -0.047 -0.723  1.    -0.149  0.076 -0.262  0.09   0.256]\n",
      " [-0.029  0.074  0.056  0.184 -0.149  1.    -0.706 -0.019  0.341  0.028]\n",
      " [-0.016 -0.066 -0.023 -0.129  0.076 -0.706  1.     0.052 -0.35  -0.063]\n",
      " [ 0.129  0.119  0.04   0.268 -0.262 -0.019  0.052  1.    -0.207 -0.989]\n",
      " [-0.123 -0.102 -0.526 -0.02   0.09   0.341 -0.35  -0.207  1.     0.211]\n",
      " [-0.134 -0.125 -0.032 -0.252  0.256  0.028 -0.063 -0.989  0.211  1.   ]]\n"
     ]
    }
   ],
   "source": [
    "import numpy as np, pandas as pd\n",
    "\n",
    "path = \"dementia_dataset (2).xls\"\n",
    "try:\n",
    "    df = pd.read_excel(path, engine=\"xlrd\")\n",
    "except Exception:\n",
    "    try:\n",
    "        df = pd.read_excel(path, engine=\"openpyxl\")\n",
    "    except Exception:\n",
    "        df = pd.read_csv(path.replace(\".xls\",\".csv\"))\n",
    "\n",
    "num = df.select_dtypes(include=[\"number\"])\n",
    "A = num.to_numpy(dtype=float)\n",
    "colnames = num.columns.to_list()\n",
    "\n",
    "means = np.nanmean(A, axis=0)\n",
    "stds = np.nanstd(A, axis=0, ddof=1)\n",
    "mins = np.nanmin(A, axis=0)\n",
    "maxs = np.nanmax(A, axis=0)\n",
    "meds = np.nanmedian(A, axis=0)\n",
    "\n",
    "valid_rows = ~np.isnan(A).any(axis=1)\n",
    "corr = np.corrcoef(A[valid_rows].T) if valid_rows.sum()>=2 else np.full((A.shape[1],A.shape[1]), np.nan)\n",
    "\n",
    "print(A.shape)\n",
    "print(dict(zip(colnames, np.round(means,3))))\n",
    "print(dict(zip(colnames, np.round(stds,3))))\n",
    "print(dict(zip(colnames, np.round(meds,3))))\n",
    "print(dict(zip(colnames, np.round(mins,3))))\n",
    "print(dict(zip(colnames, np.round(maxs,3))))\n",
    "print(np.round(corr,3))\n"
   ]
  }
 ],
 "metadata": {
  "kernelspec": {
   "display_name": "Python 3",
   "language": "python",
   "name": "python3"
  },
  "language_info": {
   "codemirror_mode": {
    "name": "ipython",
    "version": 3
   },
   "file_extension": ".py",
   "mimetype": "text/x-python",
   "name": "python",
   "nbconvert_exporter": "python",
   "pygments_lexer": "ipython3",
   "version": "3.10.0"
  }
 },
 "nbformat": 4,
 "nbformat_minor": 5
}
